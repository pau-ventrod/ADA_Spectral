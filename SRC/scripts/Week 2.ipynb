{
 "cells": [
  {
   "cell_type": "code",
   "execution_count": 1,
   "id": "94691dea",
   "metadata": {},
   "outputs": [
    {
     "ename": "NameError",
     "evalue": "name 'data_df' is not defined",
     "output_type": "error",
     "traceback": [
      "\u001b[1;31m---------------------------------------------------------------------------\u001b[0m",
      "\u001b[1;31mNameError\u001b[0m                                 Traceback (most recent call last)",
      "Cell \u001b[1;32mIn[1], line 3\u001b[0m\n\u001b[0;32m      1\u001b[0m \u001b[38;5;28;01mfrom\u001b[39;00m \u001b[38;5;21;01msklearn\u001b[39;00m\u001b[38;5;21;01m.\u001b[39;00m\u001b[38;5;21;01mdecomposition\u001b[39;00m \u001b[38;5;28;01mimport\u001b[39;00m PCA\n\u001b[0;32m      2\u001b[0m pca \u001b[38;5;241m=\u001b[39m PCA()\n\u001b[1;32m----> 3\u001b[0m pca\u001b[38;5;241m.\u001b[39mfit(\u001b[43mdata_df\u001b[49m[input_cols])\n\u001b[0;32m      4\u001b[0m \u001b[38;5;28mprint\u001b[39m(pca\u001b[38;5;241m.\u001b[39mexplained_variance_ratio_)\n\u001b[0;32m      6\u001b[0m pca_variance \u001b[38;5;241m=\u001b[39m pca\u001b[38;5;241m.\u001b[39mexplained_variance_ratio_\n",
      "\u001b[1;31mNameError\u001b[0m: name 'data_df' is not defined"
     ]
    }
   ],
   "source": [
    "from sklearn.decomposition import PCA\n",
    "pca = PCA()\n",
    "pca.fit(data_df[input_cols])\n",
    "print(pca.explained_variance_ratio_)\n",
    "\n",
    "pca_variance = pca.explained_variance_ratio_\n",
    "\n",
    "plt.figure(figsize=(8, 6))\n",
    "plt.bar(range(len(data_df[input_cols].columns)), pca_variance, alpha=0.5, align='center', label='individual variance')\n",
    "plt.legend()\n",
    "plt.ylabel('Variance ratio')\n",
    "plt.xlabel('Principal components')\n",
    "plt.xlim(-3, 50)\n",
    "plt.show()"
   ]
  },
  {
   "cell_type": "code",
   "execution_count": null,
   "id": "d41d9585",
   "metadata": {},
   "outputs": [],
   "source": [
    "pca = PCA(n_components=2)\n",
    "pca_data = pca.fit_transform(data_df[input_cols])\n",
    "pca_data = pd.concat([pd.DataFrame(pca_data), data_df[target_cols].reset_index(drop=True)], axis=1)"
   ]
  },
  {
   "cell_type": "code",
   "execution_count": null,
   "id": "3fdd6232",
   "metadata": {},
   "outputs": [],
   "source": []
  },
  {
   "cell_type": "code",
   "execution_count": 2,
   "id": "a05fab4e",
   "metadata": {},
   "outputs": [
    {
     "ename": "NameError",
     "evalue": "name 'plt' is not defined",
     "output_type": "error",
     "traceback": [
      "\u001b[1;31m---------------------------------------------------------------------------\u001b[0m",
      "\u001b[1;31mNameError\u001b[0m                                 Traceback (most recent call last)",
      "Cell \u001b[1;32mIn[2], line 1\u001b[0m\n\u001b[1;32m----> 1\u001b[0m colormap \u001b[38;5;241m=\u001b[39m \u001b[43mplt\u001b[49m\u001b[38;5;241m.\u001b[39mget_cmap(\u001b[38;5;124m'\u001b[39m\u001b[38;5;124mviridis\u001b[39m\u001b[38;5;124m'\u001b[39m)\n\u001b[0;32m      2\u001b[0m fig, ax \u001b[38;5;241m=\u001b[39m plt\u001b[38;5;241m.\u001b[39msubplots(\u001b[38;5;241m7\u001b[39m,\u001b[38;5;241m3\u001b[39m, figsize \u001b[38;5;241m=\u001b[39m (\u001b[38;5;241m20\u001b[39m, \u001b[38;5;241m23\u001b[39m))\n\u001b[0;32m      4\u001b[0m \u001b[38;5;28;01mfor\u001b[39;00m idx_target, target \u001b[38;5;129;01min\u001b[39;00m \u001b[38;5;28menumerate\u001b[39m(target_cols):\n",
      "\u001b[1;31mNameError\u001b[0m: name 'plt' is not defined"
     ]
    }
   ],
   "source": [
    "colormap = plt.get_cmap('viridis')\n",
    "fig, ax = plt.subplots(7,3, figsize = (20, 23))\n",
    "\n",
    "for idx_target, target in enumerate(target_cols):\n",
    "    filtered_data = pca_data[~pca_data[target].isna()] # Keeping only non-na samples\n",
    "    target_values = filtered_data[target].to_numpy() # Selecting the target values\n",
    "    \n",
    "    # To plot the colorbar\n",
    "    norm = plt.Normalize(min(target_values), max(target_values))\n",
    "    sm = ScalarMappable(cmap=colormap, norm=norm)\n",
    "    \n",
    "    ax[idx_target // 3][idx_target % 3].scatter(filtered_data[0], filtered_data[1], c = sm.to_rgba(target_values), s = 5)\n",
    "        \n",
    "    # Adding plot information    \n",
    "    plt.colorbar(sm, ax = ax[idx_target // 3][idx_target % 3], label=target)\n",
    "    ax[idx_target // 3][idx_target % 3].set_xlabel(\"Wavelength (nm)\")\n",
    "    ax[idx_target // 3][idx_target % 3].set_ylabel(\"Reflection\")\n",
    "    \n",
    "ax[6, 2].axis('off')\n",
    "plt.tight_layout()\n",
    "plt.show()"
   ]
  },
  {
   "cell_type": "code",
   "execution_count": 3,
   "id": "53d1db80",
   "metadata": {},
   "outputs": [
    {
     "ename": "NameError",
     "evalue": "name 'plt' is not defined",
     "output_type": "error",
     "traceback": [
      "\u001b[1;31m---------------------------------------------------------------------------\u001b[0m",
      "\u001b[1;31mNameError\u001b[0m                                 Traceback (most recent call last)",
      "Cell \u001b[1;32mIn[3], line 2\u001b[0m\n\u001b[0;32m      1\u001b[0m \u001b[38;5;66;03m# Plotting correlation\u001b[39;00m\n\u001b[1;32m----> 2\u001b[0m \u001b[43mplt\u001b[49m\u001b[38;5;241m.\u001b[39msubplots(figsize\u001b[38;5;241m=\u001b[39m(\u001b[38;5;241m10\u001b[39m, \u001b[38;5;241m5\u001b[39m))\n\u001b[0;32m      3\u001b[0m corr \u001b[38;5;241m=\u001b[39m pca_data\u001b[38;5;241m.\u001b[39mcorr()\n\u001b[0;32m      5\u001b[0m sns\u001b[38;5;241m.\u001b[39mheatmap( corr[[\u001b[38;5;241m0\u001b[39m,\u001b[38;5;241m1\u001b[39m]]\u001b[38;5;241m.\u001b[39miloc[\u001b[38;5;241m2\u001b[39m:], annot\u001b[38;5;241m=\u001b[39m\u001b[38;5;28;01mTrue\u001b[39;00m )\n",
      "\u001b[1;31mNameError\u001b[0m: name 'plt' is not defined"
     ]
    }
   ],
   "source": [
    "# Plotting correlation\n",
    "plt.subplots(figsize=(10, 5))\n",
    "corr = pca_data.corr()\n",
    "\n",
    "sns.heatmap( corr[[0,1]].iloc[2:], annot=True )\n",
    "plt.title(\"Trait correlation\")\n",
    "plt.show()"
   ]
  },
  {
   "cell_type": "code",
   "execution_count": null,
   "id": "52070637",
   "metadata": {},
   "outputs": [],
   "source": []
  },
  {
   "cell_type": "code",
   "execution_count": 4,
   "id": "2091236c",
   "metadata": {},
   "outputs": [
    {
     "ename": "NameError",
     "evalue": "name 'data_df_zscore' is not defined",
     "output_type": "error",
     "traceback": [
      "\u001b[1;31m---------------------------------------------------------------------------\u001b[0m",
      "\u001b[1;31mNameError\u001b[0m                                 Traceback (most recent call last)",
      "Cell \u001b[1;32mIn[4], line 2\u001b[0m\n\u001b[0;32m      1\u001b[0m pca \u001b[38;5;241m=\u001b[39m PCA()\n\u001b[1;32m----> 2\u001b[0m pca\u001b[38;5;241m.\u001b[39mfit(\u001b[43mdata_df_zscore\u001b[49m[input_cols])\n\u001b[0;32m      3\u001b[0m \u001b[38;5;28mprint\u001b[39m(pca\u001b[38;5;241m.\u001b[39mexplained_variance_ratio_)\n\u001b[0;32m      5\u001b[0m pca_variance \u001b[38;5;241m=\u001b[39m pca\u001b[38;5;241m.\u001b[39mexplained_variance_ratio_\n",
      "\u001b[1;31mNameError\u001b[0m: name 'data_df_zscore' is not defined"
     ]
    }
   ],
   "source": [
    "\n",
    "\n",
    "pca = PCA()\n",
    "pca.fit(data_df_zscore[input_cols])\n",
    "print(pca.explained_variance_ratio_)\n",
    "\n",
    "pca_variance = pca.explained_variance_ratio_\n",
    "\n",
    "plt.figure(figsize=(8, 6))\n",
    "plt.bar(range(len(data_df_zscore[input_cols].columns)), pca_variance, alpha=0.5, align='center', label='individual variance')\n",
    "plt.legend()\n",
    "plt.ylabel('Variance ratio')\n",
    "plt.xlabel('Principal components')\n",
    "plt.xlim(-3, 50)\n",
    "plt.show()"
   ]
  },
  {
   "cell_type": "code",
   "execution_count": 5,
   "id": "41e0525f",
   "metadata": {},
   "outputs": [
    {
     "ename": "NameError",
     "evalue": "name 'data_df_zscore' is not defined",
     "output_type": "error",
     "traceback": [
      "\u001b[1;31m---------------------------------------------------------------------------\u001b[0m",
      "\u001b[1;31mNameError\u001b[0m                                 Traceback (most recent call last)",
      "Cell \u001b[1;32mIn[5], line 2\u001b[0m\n\u001b[0;32m      1\u001b[0m pca \u001b[38;5;241m=\u001b[39m PCA(n_components\u001b[38;5;241m=\u001b[39m\u001b[38;5;241m2\u001b[39m)\n\u001b[1;32m----> 2\u001b[0m pca_data \u001b[38;5;241m=\u001b[39m pca\u001b[38;5;241m.\u001b[39mfit_transform(\u001b[43mdata_df_zscore\u001b[49m[input_cols])\n\u001b[0;32m      3\u001b[0m pca_data \u001b[38;5;241m=\u001b[39m pd\u001b[38;5;241m.\u001b[39mconcat([pd\u001b[38;5;241m.\u001b[39mDataFrame(pca_data), data_df[target_cols]\u001b[38;5;241m.\u001b[39mreset_index(drop\u001b[38;5;241m=\u001b[39m\u001b[38;5;28;01mTrue\u001b[39;00m)], axis\u001b[38;5;241m=\u001b[39m\u001b[38;5;241m1\u001b[39m)\n\u001b[0;32m      6\u001b[0m colormap \u001b[38;5;241m=\u001b[39m plt\u001b[38;5;241m.\u001b[39mget_cmap(\u001b[38;5;124m'\u001b[39m\u001b[38;5;124mviridis\u001b[39m\u001b[38;5;124m'\u001b[39m)\n",
      "\u001b[1;31mNameError\u001b[0m: name 'data_df_zscore' is not defined"
     ]
    }
   ],
   "source": [
    "pca = PCA(n_components=2)\n",
    "pca_data = pca.fit_transform(data_df_zscore[input_cols])\n",
    "pca_data = pd.concat([pd.DataFrame(pca_data), data_df[target_cols].reset_index(drop=True)], axis=1)\n",
    "\n",
    "\n",
    "colormap = plt.get_cmap('viridis')\n",
    "fig, ax = plt.subplots(7,3, figsize = (20, 23))\n",
    "\n",
    "for idx_target, target in enumerate(target_cols):\n",
    "    filtered_data = pca_data[~pca_data[target].isna()] # Keeping only non-na samples\n",
    "    target_values = filtered_data[target].to_numpy() # Selecting the target values\n",
    "    \n",
    "    # To plot the colorbar\n",
    "    norm = plt.Normalize(min(target_values), max(target_values))\n",
    "    sm = ScalarMappable(cmap=colormap, norm=norm)\n",
    "    \n",
    "    ax[idx_target // 3][idx_target % 3].scatter(filtered_data[0], filtered_data[1], c = sm.to_rgba(target_values) )\n",
    "        \n",
    "    # Adding plot information    \n",
    "    plt.colorbar(sm, ax = ax[idx_target // 3][idx_target % 3], label=target)\n",
    "    ax[idx_target // 3][idx_target % 3].set_xlabel(\"Wavelength (nm)\")\n",
    "    ax[idx_target // 3][idx_target % 3].set_ylabel(\"Reflection\")\n",
    "    \n",
    "ax[6, 2].axis('off')\n",
    "plt.tight_layout()\n",
    "plt.show()"
   ]
  },
  {
   "cell_type": "code",
   "execution_count": null,
   "id": "84c36e95",
   "metadata": {},
   "outputs": [],
   "source": [
    "# Plotting correlation\n",
    "plt.subplots(figsize=(10, 5))\n",
    "corr = pca_data.corr()\n",
    "\n",
    "sns.heatmap( corr[[0,1]].iloc[2:], annot=True )\n",
    "plt.title(\"Trait correlation\")\n",
    "plt.show()"
   ]
  }
 ],
 "metadata": {
  "kernelspec": {
   "display_name": "Python (BSC_PRactiques)",
   "language": "python",
   "name": "bsc_practiques"
  },
  "language_info": {
   "codemirror_mode": {
    "name": "ipython",
    "version": 3
   },
   "file_extension": ".py",
   "mimetype": "text/x-python",
   "name": "python",
   "nbconvert_exporter": "python",
   "pygments_lexer": "ipython3",
   "version": "3.10.12"
  }
 },
 "nbformat": 4,
 "nbformat_minor": 5
}
